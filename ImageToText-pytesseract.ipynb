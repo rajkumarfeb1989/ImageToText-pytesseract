{
 "cells": [
  {
   "cell_type": "code",
   "execution_count": 1,
   "metadata": {},
   "outputs": [],
   "source": [
    "import pytesseract\n",
    "# adds image processing capabilities\n",
    "from PIL import Image\n",
    "# converts the text to speech  \n",
    "import pyttsx3\n",
    "#translates into the mentioned language\n",
    "from googletrans import Translator"
   ]
  },
  {
   "cell_type": "code",
   "execution_count": 2,
   "metadata": {},
   "outputs": [
    {
     "name": "stdout",
     "output_type": "stream",
     "text": [
      "<PIL.JpegImagePlugin.JpegImageFile image mode=RGB size=1020x432 at 0x1069EF08>\n"
     ]
    }
   ],
   "source": [
    "# opening an image from the source path\n",
    "img = Image.open('nightoftoils.jpg')\n",
    "# describes image format in the output\n",
    "print(img)"
   ]
  },
  {
   "cell_type": "code",
   "execution_count": 3,
   "metadata": {},
   "outputs": [],
   "source": [
    "# path where the tesseract module is installed (need to download and install this)\n",
    "pytesseract.pytesseract.tesseract_cmd ='C:/Program Files/Tesseract-OCR/tesseract.exe'"
   ]
  },
  {
   "cell_type": "code",
   "execution_count": 5,
   "metadata": {},
   "outputs": [
    {
     "name": "stdout",
     "output_type": "stream",
     "text": [
      "ANIGHT OF TOILS\n",
      "the evolutions of the earth as set forth in this and the preceding section. For this purpose the author has mtroduced\n",
      "a parallel table, exhibiting on one side a sea of animal life beginning with the humblest and ascending to the\n",
      "highest species: and on the other side the successive senes of rock formations, in which their fossiliferous remains\n",
      "have been found up to the present superficial deposits of the ae Objections have been made to the correctness of\n",
      "the author's analogies, scale, and fis class2cation of ammats. the chief of which will be adverted to in the next\n",
      "section: but the table is essential as presenting at one view an outhne of the hypothesis he has sought to establish.\n",
      "scale of animal Ringdom, order of animals in ascending series foetal human brain of rocks. resembles. in Invertebrata.\n",
      "Bimana Superficial deposits month, attains full human character. TRANSMUTATION OF SPECIES. In the two\n",
      "fast sections we have gone through the earth's geological history, first of the changes in its physical structure, next of\n",
      "\n",
      " \n",
      "\n"
     ]
    }
   ],
   "source": [
    "# converts the image to result and saves it into result variable\n",
    "result = pytesseract.image_to_string(img)\n",
    "print(result)"
   ]
  },
  {
   "cell_type": "code",
   "execution_count": null,
   "metadata": {},
   "outputs": [],
   "source": []
  },
  {
   "cell_type": "code",
   "execution_count": null,
   "metadata": {},
   "outputs": [],
   "source": []
  },
  {
   "cell_type": "code",
   "execution_count": null,
   "metadata": {},
   "outputs": [],
   "source": []
  }
 ],
 "metadata": {
  "kernelspec": {
   "display_name": "myImageKernel",
   "language": "python",
   "name": "myimagekernel"
  },
  "language_info": {
   "codemirror_mode": {
    "name": "ipython",
    "version": 3
   },
   "file_extension": ".py",
   "mimetype": "text/x-python",
   "name": "python",
   "nbconvert_exporter": "python",
   "pygments_lexer": "ipython3",
   "version": "3.7.4"
  }
 },
 "nbformat": 4,
 "nbformat_minor": 2
}
